{
 "cells": [
  {
   "cell_type": "markdown",
   "metadata": {},
   "source": [
    "# import modules"
   ]
  },
  {
   "cell_type": "code",
   "execution_count": null,
   "metadata": {},
   "outputs": [],
   "source": [
    "import os\n",
    "import requests\n",
    "import pandas as pd\n",
    "import json\n",
    "\n",
    "from datetime import datetime"
   ]
  },
  {
   "cell_type": "code",
   "execution_count": 14,
   "metadata": {},
   "outputs": [],
   "source": [
    "token = 'EAACEdEose0cBAMy35Rs1a6PrnNS3ZC1kPH4HVQLOhtn7cn8jiBjUTaBQHdbwiJhST7U2PIn7PmbxLz9n8ZCaDlTPdDqER15SZBptDFcKmEuALhTsvZC9zQVGni6VrT2bYZCgMubxbLH38j4kny4wWN8FIPqVvx9yJHOXhFwoBwFDKJg0H87NI14nWKN1nW7iztSbYnDHwp1FLqFZC7ARA9'"
   ]
  },
  {
   "cell_type": "markdown",
   "metadata": {},
   "source": [
    "## source from fb 粉專：DLive長沙周末聯盟"
   ]
  },
  {
   "cell_type": "code",
   "execution_count": 32,
   "metadata": {},
   "outputs": [],
   "source": [
    "\"\"\"\n",
    "%7B => {\n",
    "%7D => }\n",
    "%2C => ,\n",
    "reference: https://www.w3schools.com/tags/ref_urlencode.asp\n",
    "\"\"\"\n",
    "\n",
    "url = 'https://graph.facebook.com/v2.9/DLIVECJbasket?fields=albums.limit({})%7Bphotos.limit({})%7Balbum,images%7D%7D&access_token={}'.format(\n",
    "    100,\n",
    "    100,\n",
    "    token)\n",
    "\n",
    "response = requests.get(url)\n",
    "html = json.loads(response.text) "
   ]
  },
  {
   "cell_type": "code",
   "execution_count": 33,
   "metadata": {},
   "outputs": [
    {
     "data": {
      "text/plain": [
       "50"
      ]
     },
     "execution_count": 33,
     "metadata": {},
     "output_type": "execute_result"
    }
   ],
   "source": [
    "#抓出有幾本相簿 to find the numbers of albums\n",
    "albums_num = html['albums']['data']\n",
    "len(albums_num)"
   ]
  },
  {
   "cell_type": "code",
   "execution_count": 41,
   "metadata": {},
   "outputs": [
    {
     "data": {
      "text/plain": [
       "'https://scontent.xx.fbcdn.net/v/t1.0-0/p320x320/30704883_2109081332452754_4867429545419997184_n.jpg?_nc_cat=0&oh=935ed66351bd7a43f2e3ebe528b7eadf&oe=5B68A60D'"
      ]
     },
     "execution_count": 41,
     "metadata": {},
     "output_type": "execute_result"
    }
   ],
   "source": [
    "# parsing the html file...\n",
    "albums_num[23]['photos']['data'][6]['images'][5]['source']"
   ]
  },
  {
   "cell_type": "code",
   "execution_count": 35,
   "metadata": {},
   "outputs": [
    {
     "name": "stdout",
     "output_type": "stream",
     "text": [
      "0 Timeline Photos has : 55 photos!\n",
      "1 0415中正週日第五季C組 Rhinos - 中租控股 has : 55 photos!\n",
      "2 0415中正週日第五季C組 Rocknrolla - 一號下卡拉 has : 55 photos!\n",
      "3 0415中正週日第五季C組 達芬奇 - CNT has : 55 photos!\n",
      "4 0415中正週日第五季C組 金鈺銨 - Black Panther has : 55 photos!\n",
      "5 0415中正週日第五季A組 VG cafe - 美商雷馬 has : 55 photos!\n",
      "6 0415中正週日第五季A組 Homies - 土城億客隆 has : 55 photos!\n",
      "7 0415中正週日第五季A組 帥宇國際 - DV-P力貓 has : 55 photos!\n",
      "8 0415中正週日第五季A組 潔鍶沙城豹 - 大鼎旅遊 has : 55 photos!\n",
      "9 0415中正週日第五季D組 EXTREME - 經典帥 has : 55 photos!\n",
      "10 0415中正週日第五季B組 Ranger - 欣辰照明 has : 55 photos!\n",
      "11 0415中正週日第五季D組 恆永投資 - 雅偲珍顏 has : 55 photos!\n",
      "12 0415中正週日第五季D組 HOPE - SL111 has : 55 photos!\n",
      "13 0414中正週六女子B組 Double P - Umm has : 55 photos!\n",
      "14 0414中正週六女子B組 EMBA LADIES - 安聯i探索 has : 55 photos!\n",
      "15 0414中正週六女子A組 DAME - 台大啊嚕嘪 has : 55 photos!\n",
      "16 0414中正週六女子A組 NBS - 政妹隊 has : 55 photos!\n",
      "17 0415 第二季和平館週日C組 Uncle - Pecado has : 55 photos!\n",
      "18 0415第二季和平館週日B組 CHE System - Never1551 has : 55 photos!\n",
      "19 0415第二季和平館週日B組 Lunzer - 4th Lane has : 55 photos!\n",
      "20 0415第二季和平館週日D組 AK57ers - WED-D has : 55 photos!\n",
      "21 0415第二季和平館週日D組 師大公鹿 - ABOUT 12 has : 55 photos!\n",
      "22 0415第二季和平館週日C組 王子麥雞爸 - Hurricane has : 55 photos!\n",
      "23 0415第二季和平館週日C組 阿西與夥伴 - 鋼鐵礦工 has : 55 photos!\n",
      "24 0415第二季和平館週日D組 Metro Taipei - 傑佛瑞 has : 55 photos!\n",
      "25 0415第二季和平館週日D組 WTF - PHXY配饅頭 has : 55 photos!\n",
      "26 0415第二季和平館週日B組 PLG - WED-B(勝) has : 55 photos!\n",
      "27 0415第二季和平館週日B組 刺熱 - 師大惡魔雞排 has : 55 photos!\n",
      "28 0415第二季和平館週日C組 NTU LULULU - 神盾 has : 55 photos!\n",
      "29 0401中正週日第五季C組 Rocknrolla - 金鈺銨 has : 55 photos!\n",
      "30 0401中正週日第五季B組 Surfrider - Ranger has : 55 photos!\n",
      "31 0401中正週日第五季D組 正當防衛 - 恆永投資 has : 55 photos!\n",
      "32 0401中正週日第五季B組 OBCCU - 壹壹捌 has : 55 photos!\n",
      "33 0401中正週日第五季B組 Bromance - PandaFox has : 55 photos!\n",
      "34 0401中正週日第五季C組 Black Panther - Rhinos has : 55 photos!\n",
      "35 0401中正週日第五季D組 EXTREME - 雅偲珍顏 has : 55 photos!\n",
      "36 0401中正週日第五季C組 達芬奇 - CNT has : 55 photos!\n",
      "37 0401中正週日第五季B組 欣辰照明 - Dream Y&T has : 55 photos!\n",
      "38 0401中正週日第五季C組 中租控股 - 一號下卡拉 has : 55 photos!\n",
      "39 0401中正週日第五季D組 SL111 - 經典帥 has : 55 photos!\n",
      "40 0401中正週日第五季D組 HOPE - Winteam has : 55 photos!\n",
      "41 0401第二季和平館週日D組 WED-D - WTF has : 55 photos!\n",
      "42 0401第二季和平館週日C組 NTU LULULU - Pecado has : 55 photos!\n",
      "43 0401第二季和平館週日B組 Never1551 - 刺熱 has : 55 photos!\n",
      "44 0401第二季和平館週日B組 CHE System - PLG has : 55 photos!\n",
      "45 0401第二季和平館週日C組 鋼鐵礦工 - 神盾 has : 55 photos!\n",
      "46 0401第二季和平館週日B組 WED-B - 4th Lane has : 55 photos!\n",
      "47 0401第二季和平館週日D組 PHXY配饅頭 - 師大公鹿 has : 55 photos!\n",
      "48 0401第二季和平館週日B組 師大惡魔雞排 - Lunzer has : 55 photos!\n",
      "49 0401第二季和平館週日C組 Hurricane - Uncle has : 55 photos!\n"
     ]
    }
   ],
   "source": [
    "#list the index, albums_name, photos_in_albums\n",
    "for i in range(len(albums_num)):\n",
    "    print(i, albums_num[i]['photos']['data'][0]['album']['name'], 'has :', len(albums_num[1]['photos']['data']), 'photos!')"
   ]
  },
  {
   "cell_type": "code",
   "execution_count": 36,
   "metadata": {},
   "outputs": [],
   "source": [
    "#把所有爬到的imgs存進imgs_list裡 append all photos in imgs_list\n",
    "#第一個index表示第幾本相簿，第二個index是第幾張，第三個是同張第幾個尺寸\n",
    "imgs_list = []\n",
    "for i in range(1, len(albums_num)):\n",
    "    for j in range(len(albums_num[i]['photos']['data'])):\n",
    "        imgs_list.append(albums_num[i]['photos']['data'][j]['images'][5]['source'])"
   ]
  },
  {
   "cell_type": "code",
   "execution_count": 37,
   "metadata": {},
   "outputs": [
    {
     "data": {
      "text/plain": [
       "2624"
      ]
     },
     "execution_count": 37,
     "metadata": {},
     "output_type": "execute_result"
    }
   ],
   "source": [
    "len(imgs_list)"
   ]
  },
  {
   "cell_type": "code",
   "execution_count": 38,
   "metadata": {},
   "outputs": [
    {
     "data": {
      "text/plain": [
       "'https://scontent.xx.fbcdn.net/v/t1.0-0/p320x320/29683757_2091475990879955_6311418045311275654_n.jpg?_nc_cat=0&oh=2ea2f55798c34c49a1bb5144efa21ac9&oe=5B68ADAE'"
      ]
     },
     "execution_count": 38,
     "metadata": {},
     "output_type": "execute_result"
    }
   ],
   "source": [
    "imgs_list[2623]"
   ]
  },
  {
   "cell_type": "code",
   "execution_count": 42,
   "metadata": {},
   "outputs": [],
   "source": [
    "from PIL import Image\n",
    "from bs4 import BeautifulSoup"
   ]
  },
  {
   "cell_type": "code",
   "execution_count": 46,
   "metadata": {},
   "outputs": [
    {
     "name": "stdout",
     "output_type": "stream",
     "text": [
      "1882 https://scontent.xx.fbcdn.net/v/t1.0-0/p320x320/29595077_2091601887534032_6427098634081748653_n.jpg?_nc_cat=0&oh=41348df8c5c02f7ae113a0c349cdba18&oe=5B685FEF\n",
      "1883 https://scontent.xx.fbcdn.net/v/t1.0-0/p320x320/29694682_2091603944200493_5751625844858458319_n.jpg?_nc_cat=0&oh=98a6a9493726f62e35081ddb983969a8&oe=5B700A0C\n",
      "1884 https://scontent.xx.fbcdn.net/v/t1.0-0/p320x320/29790246_2091603990867155_8398447190680111857_n.jpg?_nc_cat=0&oh=aeb555768e3e05f76f1102f48e090126&oe=5B539ED1\n"
     ]
    }
   ],
   "source": [
    "#testing...\n",
    "for i, n in enumerate(imgs_list[1882:1885]):\n",
    "    print(i+1882, n)"
   ]
  },
  {
   "cell_type": "code",
   "execution_count": 47,
   "metadata": {},
   "outputs": [],
   "source": [
    "#save the photos in folder 'results'\n",
    "results = os.path.abspath('results')\n",
    "if not os.path.exists(results):\n",
    "    os.makedirs(results)\n",
    "\n",
    "for i, n in enumerate(imgs_list):\n",
    "    img_resp = requests.get(n, stream=True)\n",
    "    image = Image.open(img_resp.raw)\n",
    "    filename = os.path.basename(str(i))\n",
    "    #print('catch the filename {} and the real format is {}'.format(filename, image.format))\n",
    "    \n",
    "    real_filename = '{}.{}'.format(\n",
    "        filename,\n",
    "        image.format.lower()\n",
    "    )\n",
    "    save_filename = os.path.join(results, real_filename)\n",
    "    #print('catch the real filename {}'.format(real_filename))\n",
    "    \n",
    "    image.save(save_filename)\n",
    "    #print('save image at {}'.format(save_filename))"
   ]
  },
  {
   "cell_type": "markdown",
   "metadata": {},
   "source": [
    "# 將train set 的檔名修改成s_num, d_num, l_num形式"
   ]
  },
  {
   "cell_type": "code",
   "execution_count": 3,
   "metadata": {},
   "outputs": [
    {
     "name": "stdout",
     "output_type": "stream",
     "text": [
      "shoot has : 945\n",
      "dribble has : 967\n",
      "layup has : 869\n"
     ]
    }
   ],
   "source": [
    "shoot_path = '../dataset/train/shoot/'\n",
    "dribble_path = '../dataset/train/dribble/'\n",
    "layup_path = '../dataset/train/layup/'\n",
    "\n",
    "shoot_file_names = [os.path.join(shoot_path, f) for f in os.listdir(shoot_path) if (f.endswith('g')) | (f.endswith('G'))]\n",
    "dribble_file_names = [os.path.join(dribble_path, f) for f in os.listdir(dribble_path) if (f.endswith('g')) | (f.endswith('G'))]\n",
    "layup_file_names = [os.path.join(layup_path, f) for f in os.listdir(layup_path) if (f.endswith('g')) | (f.endswith('G'))]\n",
    "\n",
    "print('shoot has :', len(shoot_file_names))\n",
    "print('dribble has :', len(dribble_file_names))\n",
    "print('layup has :', len(layup_file_names))"
   ]
  },
  {
   "cell_type": "code",
   "execution_count": 4,
   "metadata": {},
   "outputs": [],
   "source": [
    "count = 1\n",
    "\n",
    "for f in shoot_file_names:\n",
    "    new_f = str(count) + '.jpeg'\n",
    "    os.rename(f, os.path.join(shoot_path, 's' + new_f))\n",
    "    count += 1"
   ]
  },
  {
   "cell_type": "code",
   "execution_count": 5,
   "metadata": {},
   "outputs": [],
   "source": [
    "count = 1\n",
    "\n",
    "for f in dribble_file_names:\n",
    "    new_f = str(count) + '.jpeg'\n",
    "    os.rename(f, os.path.join(dribble_path, 'd' + new_f))\n",
    "    count += 1"
   ]
  },
  {
   "cell_type": "code",
   "execution_count": 6,
   "metadata": {},
   "outputs": [],
   "source": [
    "count = 1\n",
    "\n",
    "for f in layup_file_names:\n",
    "    new_f = str(count) + '.jpeg'\n",
    "    os.rename(f, os.path.join(layup_path, 'l' + new_f))\n",
    "    count += 1"
   ]
  }
 ],
 "metadata": {
  "kernelspec": {
   "display_name": "Python 3",
   "language": "python",
   "name": "python3"
  },
  "language_info": {
   "codemirror_mode": {
    "name": "ipython",
    "version": 3
   },
   "file_extension": ".py",
   "mimetype": "text/x-python",
   "name": "python",
   "nbconvert_exporter": "python",
   "pygments_lexer": "ipython3",
   "version": "3.6.5"
  }
 },
 "nbformat": 4,
 "nbformat_minor": 2
}
